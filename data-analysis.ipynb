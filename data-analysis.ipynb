{
 "cells": [
  {
   "cell_type": "markdown",
   "id": "0aadd4a4-7d49-4deb-86a1-69a7048683f8",
   "metadata": {},
   "source": [
    "## Load Dataset"
   ]
  },
  {
   "cell_type": "code",
   "execution_count": 1,
   "id": "2d97958b-b47f-411d-9e1d-68b66d38ddab",
   "metadata": {},
   "outputs": [],
   "source": [
    "import numpy as np\n",
    "import pandas as pd\n",
    "\n",
    "import zipfile\n",
    "import os"
   ]
  },
  {
   "cell_type": "code",
   "execution_count": 2,
   "id": "d20dd2f1-bc7e-4649-866f-b3ed7d00e593",
   "metadata": {},
   "outputs": [],
   "source": [
    "import warnings\n",
    "\n",
    "warnings.filterwarnings('ignore')\n",
    "pd.set_option('display.max_columns',100)"
   ]
  },
  {
   "cell_type": "code",
   "execution_count": 3,
   "id": "3b78452f-3806-4f8f-acb6-7467e7f3433f",
   "metadata": {},
   "outputs": [],
   "source": [
    "# extract zip file to dataset dir\n",
    "def unzip_file(zip_file, extract_dir):\n",
    "    with zipfile.ZipFile(zip_file, 'r') as zip_ref:\n",
    "        zip_ref.extractall(extract_dir)\n",
    "\n",
    "zip_file = 'healthcare-provider-fraud-detection-analysis.zip'\n",
    "extract_dir = 'dataset'\n",
    "\n",
    "unzip_file(zip_file, extract_dir)"
   ]
  },
  {
   "cell_type": "code",
   "execution_count": 4,
   "id": "a3458dca-826b-4878-91c5-a186f9b84451",
   "metadata": {},
   "outputs": [
    {
     "name": "stdout",
     "output_type": "stream",
     "text": [
      "dataset/Train-1542865627584.csv\n",
      "dataset/Test_Beneficiarydata-1542969243754.csv\n",
      "dataset/Train_Beneficiarydata-1542865627584.csv\n",
      "dataset/Test_Outpatientdata-1542969243754.csv\n",
      "dataset/Test-1542969243754.csv\n",
      "dataset/Train_Outpatientdata-1542865627584.csv\n",
      "dataset/Train_Inpatientdata-1542865627584.csv\n",
      "dataset/Test_Inpatientdata-1542969243754.csv\n",
      "dataset/.ipynb_checkpoints/Test-1542969243754-checkpoint.csv\n",
      "dataset/.ipynb_checkpoints/Train_Inpatientdata-1542865627584-checkpoint.csv\n",
      "dataset/.ipynb_checkpoints/Train_Outpatientdata-1542865627584-checkpoint.csv\n",
      "dataset/.ipynb_checkpoints/Train-1542865627584-checkpoint.csv\n"
     ]
    }
   ],
   "source": [
    "for dirname, _, filenames in os.walk('dataset'):\n",
    "    for filename in filenames:\n",
    "        print(os.path.join(dirname, filename))"
   ]
  },
  {
   "cell_type": "code",
   "execution_count": null,
   "id": "4ff6edda-d5d1-490a-995f-574df4c8f39e",
   "metadata": {},
   "outputs": [],
   "source": [
    "df_train = pd.read_csv('dataset/Train-1542865627584.csv')\n",
    "df_train_be = pd.read_csv('dataset/Train_Beneficiarydata-1542865627584.csv')\n",
    "df_train_ip = pd.read_csv('dataset/Train_Inpatientdata-1542865627584.csv')\n",
    "df_train_op = pd.read_csv('dataset/Train_Outpatientdata-1542865627584.csv')"
   ]
  },
  {
   "cell_type": "code",
   "execution_count": null,
   "id": "3b93ac47-08c5-43a0-8331-e0685c2f8dae",
   "metadata": {},
   "outputs": [],
   "source": [
    "df_test = pd.read_csv('dataset/Test-1542969243754.csv')\n",
    "df_test_be = pd.read_csv('dataset/Test_Beneficiarydata-1542969243754.csv')\n",
    "df_test_ip = pd.read_csv('dataset/Test_Inpatientdata-1542969243754.csv')\n",
    "df_test_op = pd.read_csv('dataset/Test_Outpatientdata-1542969243754.csv')"
   ]
  },
  {
   "cell_type": "markdown",
   "id": "23bca9f6-f311-460f-86e7-0a570f86719e",
   "metadata": {},
   "source": [
    "## Data Profilling"
   ]
  },
  {
   "cell_type": "code",
   "execution_count": null,
   "id": "92436ce2-e18c-4d17-a815-4f02bd03048c",
   "metadata": {},
   "outputs": [],
   "source": [
    "df_train_be"
   ]
  },
  {
   "cell_type": "code",
   "execution_count": null,
   "id": "bc9fd633-70ad-4b34-84c0-97bc62e81761",
   "metadata": {},
   "outputs": [],
   "source": [
    "df_train_ip.head()"
   ]
  },
  {
   "cell_type": "code",
   "execution_count": null,
   "id": "6f1fe6bc-7037-434b-a2b1-90895440fc29",
   "metadata": {},
   "outputs": [],
   "source": []
  },
  {
   "cell_type": "code",
   "execution_count": null,
   "id": "6edc7915-b6e1-4bcc-ae98-10a711d8968d",
   "metadata": {},
   "outputs": [],
   "source": []
  },
  {
   "cell_type": "code",
   "execution_count": null,
   "id": "d524eb66-7c34-479d-bd01-7ab256579557",
   "metadata": {},
   "outputs": [],
   "source": []
  },
  {
   "cell_type": "code",
   "execution_count": null,
   "id": "f04d2f1f-3b40-4419-b476-1ac8d0f55388",
   "metadata": {},
   "outputs": [],
   "source": [
    "print(f'Shape of data: {df_test_ben.shape[0]} row and {df_test_ben.shape[1]} columns')\n",
    "df_test_ben.head()"
   ]
  },
  {
   "cell_type": "code",
   "execution_count": null,
   "id": "5eca234a-9079-40b7-abc7-2e9338dfc33b",
   "metadata": {},
   "outputs": [],
   "source": [
    "print(f'Shape of data: {df_test_inp.shape[0]} row and {df_test_inp.shape[1]} columns')\n",
    "df_test_inp.head()"
   ]
  },
  {
   "cell_type": "code",
   "execution_count": null,
   "id": "e915f6fc-3640-4557-a778-ea6fa2420440",
   "metadata": {},
   "outputs": [],
   "source": [
    "print(f'Shape of data: {df_test_out.shape[0]} row and {df_test_out.shape[1]} columns')\n",
    "df_test_out.head()"
   ]
  },
  {
   "cell_type": "code",
   "execution_count": null,
   "id": "5f5b62c3-a373-4446-8b06-bf1979ea270e",
   "metadata": {},
   "outputs": [],
   "source": [
    "df_test_out.Provider.nunique()"
   ]
  },
  {
   "cell_type": "code",
   "execution_count": null,
   "id": "18315e24-9664-499a-a2b4-c1bc0030196b",
   "metadata": {},
   "outputs": [],
   "source": []
  }
 ],
 "metadata": {
  "kernelspec": {
   "display_name": "Python 3 (ipykernel)",
   "language": "python",
   "name": "python3"
  },
  "language_info": {
   "codemirror_mode": {
    "name": "ipython",
    "version": 3
   },
   "file_extension": ".py",
   "mimetype": "text/x-python",
   "name": "python",
   "nbconvert_exporter": "python",
   "pygments_lexer": "ipython3",
   "version": "3.10.12"
  }
 },
 "nbformat": 4,
 "nbformat_minor": 5
}
